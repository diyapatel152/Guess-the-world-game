{
 "cells": [
  {
   "cell_type": "code",
   "execution_count": null,
   "id": "e68c4b41",
   "metadata": {},
   "outputs": [],
   "source": [
    "import random\n",
    "\n",
    "def get_random_word():\n",
    "    words = [\"python\", \"developer\", \"keyboard\", \"hangman\", \"programming\", \"function\", \"variable\", \"internet\"]\n",
    "    return random.choice(words)\n",
    "\n",
    "def display_word_progress(word, guessed_letters):\n",
    "    return ' '.join([letter if letter in guessed_letters else '_' for letter in word])\n",
    "\n",
    "def guess_the_word():\n",
    "    word = get_random_word()\n",
    "    guessed_letters = set()\n",
    "    attempts_remaining = 6\n",
    "\n",
    "    print(\"🎮 Welcome to 'Guess the Word'!\")\n",
    "    print(\"You have to guess the word letter by letter.\")\n",
    "    print(\"You have\", attempts_remaining, \"incorrect guesses allowed.\\n\")\n",
    "\n",
    "    while attempts_remaining > 0:\n",
    "        print(\"Word: \", display_word_progress(word, guessed_letters))\n",
    "        print(\"Guessed letters: \", ' '.join(sorted(guessed_letters)))\n",
    "        guess = input(\"Enter a letter: \").lower()\n",
    "\n",
    "        if not guess.isalpha() or len(guess) != 1:\n",
    "            print(\"⚠️ Please enter a single alphabetic character.\\n\")\n",
    "            continue\n",
    "\n",
    "        if guess in guessed_letters:\n",
    "            print(\"🔁 You already guessed that letter.\\n\")\n",
    "            continue\n",
    "\n",
    "        guessed_letters.add(guess)\n",
    "\n",
    "        if guess in word:\n",
    "            print(\"✅ Good guess!\\n\")\n",
    "            if all(letter in guessed_letters for letter in word):\n",
    "                print(\"🎉 Congratulations! You guessed the word:\", word)\n",
    "                return\n",
    "        else:\n",
    "            attempts_remaining -= 1\n",
    "            print(\"❌ Wrong guess! Attempts remaining:\", attempts_remaining, \"\\n\")\n",
    "\n",
    "    print(\"😢 Game over! The word was:\", word)\n",
    "\n",
    "if __name__ == \"__main__\":\n",
    "    guess_the_word()"
   ]
  },
  {
   "cell_type": "code",
   "execution_count": null,
   "id": "4b47097c",
   "metadata": {},
   "outputs": [],
   "source": []
  }
 ],
 "metadata": {
  "kernelspec": {
   "display_name": "Python 3 (ipykernel)",
   "language": "python",
   "name": "python3"
  },
  "language_info": {
   "codemirror_mode": {
    "name": "ipython",
    "version": 3
   },
   "file_extension": ".py",
   "mimetype": "text/x-python",
   "name": "python",
   "nbconvert_exporter": "python",
   "pygments_lexer": "ipython3",
   "version": "3.11.4"
  }
 },
 "nbformat": 4,
 "nbformat_minor": 5
}
